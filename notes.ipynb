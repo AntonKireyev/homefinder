{
 "cells": [
  {
   "cell_type": "code",
   "execution_count": 2,
   "metadata": {
    "vscode": {
     "languageId": "html"
    }
   },
   "outputs": [
    {
     "ename": "IndentationError",
     "evalue": "unindent does not match any outer indentation level (<tokenize>, line 20)",
     "output_type": "error",
     "traceback": [
      "\u001b[1;36m  File \u001b[1;32m<tokenize>:20\u001b[1;36m\u001b[0m\n\u001b[1;33m    </div> -->\u001b[0m\n\u001b[1;37m    ^\u001b[0m\n\u001b[1;31mIndentationError\u001b[0m\u001b[1;31m:\u001b[0m unindent does not match any outer indentation level\n"
     ]
    }
   ],
   "source": [
    "extra filters / html\n",
    "\n",
    "<!-- Unemployed Filter -->\n",
    "<!-- <div class=\"mb-4\">\n",
    "                <label for=\"UnemployedFilter\" class=\"form-label\"\n",
    "                  >Unemployment Rate</label\n",
    "                >\n",
    "                <div>\n",
    "                  <select\n",
    "                    class=\"form-select\"\n",
    "                    id=\"UnemployedFilter\"\n",
    "                    name=\"unemployment\"\n",
    "                  >\n",
    "                    <option value=\"any\" selected>Any</option>\n",
    "                    <option value=\"low\">Low (&lt 2%)</option>\n",
    "                    <option value=\"medium\">Medium (2-5%)</option>\n",
    "                    <option value=\"high\">High (&gt 5%)</option>\n",
    "                  </select>\n",
    "                </div>\n",
    "              </div> -->\n",
    "\n",
    "<!-- Travel Time Filter -->\n",
    "<!-- <div class=\"mb-4\">\n",
    "                <label for=\"traveltimeFilter\" class=\"form-label\"\n",
    "                  >Travel Time</label\n",
    "                >\n",
    "                <div>\n",
    "                  <select\n",
    "                    class=\"form-select\"\n",
    "                    id=\"traveltimeFilter\"\n",
    "                    name=\"travel_time\"\n",
    "                  >\n",
    "                    <option value=\"any\" selected>Any</option>\n",
    "                    <option value=\"low\">Low (&lt 20min)</option>\n",
    "                    <option value=\"medium\">Medium (20-30min)</option>\n",
    "                    <option value=\"high\">High (&gt 30min)</option>\n",
    "                  </select>\n",
    "                </div>\n",
    "              </div> -->\n",
    "\n",
    "<!-- Remote Working Filter\n",
    "              <div class=\"mb-4\">\n",
    "                <label for=\"remoteFilter\" class=\"form-label\"\n",
    "                  >Remote Working Population</label\n",
    "                >\n",
    "                <div>\n",
    "                  <select class=\"form-select\" id=\"remoteFilter\" name=\"remote\">\n",
    "                    <option value=\"any\" selected>Any</option>\n",
    "                    <option value=\"low\">Low (&lt 5%)</option>\n",
    "                    <option value=\"medium\">Medium (5-10%)</option>\n",
    "                    <option value=\"high\">High (&gt 10%)</option>\n",
    "                  </select>\n",
    "                </div>\n",
    "              </div> -->\n"
   ]
  }
 ],
 "metadata": {
  "kernelspec": {
   "display_name": "base",
   "language": "python",
   "name": "python3"
  },
  "language_info": {
   "codemirror_mode": {
    "name": "ipython",
    "version": 3
   },
   "file_extension": ".py",
   "mimetype": "text/x-python",
   "name": "python",
   "nbconvert_exporter": "python",
   "pygments_lexer": "ipython3",
   "version": "3.11.5"
  }
 },
 "nbformat": 4,
 "nbformat_minor": 2
}
