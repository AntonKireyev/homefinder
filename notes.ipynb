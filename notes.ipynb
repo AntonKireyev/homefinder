{
 "cells": [
  {
   "cell_type": "code",
   "execution_count": 2,
   "metadata": {
    "vscode": {
     "languageId": "html"
    }
   },
   "outputs": [
    {
     "ename": "IndentationError",
     "evalue": "unindent does not match any outer indentation level (<tokenize>, line 20)",
     "output_type": "error",
     "traceback": [
      "\u001b[1;36m  File \u001b[1;32m<tokenize>:20\u001b[1;36m\u001b[0m\n\u001b[1;33m    </div> -->\u001b[0m\n\u001b[1;37m    ^\u001b[0m\n\u001b[1;31mIndentationError\u001b[0m\u001b[1;31m:\u001b[0m unindent does not match any outer indentation level\n"
     ]
    }
   ],
   "source": [
    "extra filters / html\n",
    "\n",
    "<!-- Unemployed Filter -->\n",
    "<!-- <div class=\"mb-4\">\n",
    "                <label for=\"UnemployedFilter\" class=\"form-label\"\n",
    "                  >Unemployment Rate</label\n",
    "                >\n",
    "                <div>\n",
    "                  <select\n",
    "                    class=\"form-select\"\n",
    "                    id=\"UnemployedFilter\"\n",
    "                    name=\"unemployment\"\n",
    "                  >\n",
    "                    <option value=\"any\" selected>Any</option>\n",
    "                    <option value=\"low\">Low (&lt 2%)</option>\n",
    "                    <option value=\"medium\">Medium (2-5%)</option>\n",
    "                    <option value=\"high\">High (&gt 5%)</option>\n",
    "                  </select>\n",
    "                </div>\n",
    "              </div> -->\n",
    "\n",
    "<!-- Travel Time Filter -->\n",
    "<!-- <div class=\"mb-4\">\n",
    "                <label for=\"traveltimeFilter\" class=\"form-label\"\n",
    "                  >Travel Time</label\n",
    "                >\n",
    "                <div>\n",
    "                  <select\n",
    "                    class=\"form-select\"\n",
    "                    id=\"traveltimeFilter\"\n",
    "                    name=\"travel_time\"\n",
    "                  >\n",
    "                    <option value=\"any\" selected>Any</option>\n",
    "                    <option value=\"low\">Low (&lt 20min)</option>\n",
    "                    <option value=\"medium\">Medium (20-30min)</option>\n",
    "                    <option value=\"high\">High (&gt 30min)</option>\n",
    "                  </select>\n",
    "                </div>\n",
    "              </div> -->\n",
    "\n",
    "<!-- Remote Working Filter\n",
    "              <div class=\"mb-4\">\n",
    "                <label for=\"remoteFilter\" class=\"form-label\"\n",
    "                  >Remote Working Population</label\n",
    "                >\n",
    "                <div>\n",
    "                  <select class=\"form-select\" id=\"remoteFilter\" name=\"remote\">\n",
    "                    <option value=\"any\" selected>Any</option>\n",
    "                    <option value=\"low\">Low (&lt 5%)</option>\n",
    "                    <option value=\"medium\">Medium (5-10%)</option>\n",
    "                    <option value=\"high\">High (&gt 10%)</option>\n",
    "                  </select>\n",
    "                </div>\n",
    "              </div> -->\n"
   ]
  },
  {
   "cell_type": "code",
   "execution_count": null,
   "metadata": {},
   "outputs": [],
   "source": [
    "# # Route to handle form submission and filter the data\n",
    "# @app.post(\"/\")\n",
    "# async def homefinder(\n",
    "#     request: Request,\n",
    "#     granularity: str = Form(...),\n",
    "#     income: int = Form(...),\n",
    "#     vacant_homes: float = Form(...),\n",
    "#     unemployment: float = Form(...),\n",
    "#     travel: int = Form(...),\n",
    "#     remote: float = Form(...),\n",
    "# ):\n",
    "#     # Apply filters to the dataframe\n",
    "#     filtered_data = df[\n",
    "#         (df[\"Vacant_Homes_Percent\"] >= vacant_homes)\n",
    "#         & (df[\"Worker_Income\"] <= income)\n",
    "#         & (df[\"Unemployment (%)\"] <= unemployment)\n",
    "#         & (df[\"Travel_Time\"] <= travel)\n",
    "#         & (df[\"Remote (%)\"] >= remote)\n",
    "#     ]\n",
    "\n",
    "#     return templates.TemplateResponse(\n",
    "#         \"index.html\",\n",
    "#         {\"request\": request, \"data\": filtered_data.to_dict(orient=\"records\")},\n",
    "#     )\n"
   ]
  },
  {
   "cell_type": "code",
   "execution_count": null,
   "metadata": {},
   "outputs": [],
   "source": [
    "# @app.get(\"/homefinder\")\n",
    "# async def homefinder(\n",
    "#     request: Request,\n",
    "#     income: int = 100000,  # Default values for filters\n",
    "#     vacant_homes: float = 3.0,\n",
    "#     unemployment: float = 13.0,\n",
    "#     travel: int = 35,\n",
    "#     remote: float = 0.0,\n",
    "# ):\n",
    "#     # Apply filters to the dataframe\n",
    "#     filtered_data = apply_filters(income, vacant_homes, unemployment, travel, remote)\n",
    "\n",
    "#     return templates.TemplateResponse(\n",
    "#         \"index.html\",\n",
    "#         {\n",
    "#             \"request\": request,\n",
    "#             \"data\": filtered_data.to_dict(orient=\"records\"),\n",
    "#             \"income\": income,\n",
    "#             \"vacant_homes\": vacant_homes,\n",
    "#             \"unemployment\": unemployment,\n",
    "#             \"travel\": travel,\n",
    "#             \"remote\": remote,\n",
    "#         },\n",
    "#     )\n",
    "\n",
    "\n",
    "# @app.get(\"/homefinder/data\")\n",
    "# async def get_map_data():\n",
    "#     return JSONResponse(sampledf.to_dict(orient=\"records\"))\n"
   ]
  },
  {
   "cell_type": "code",
   "execution_count": null,
   "metadata": {
    "vscode": {
     "languageId": "javascript"
    }
   },
   "outputs": [],
   "source": [
    "// // Fetch the data from FastAPI\n",
    "// fetch(\"/\")\n",
    "//   .then((response) => response.json())\n",
    "//   .then((data) => {\n",
    "//     data.forEach((item) => {\n",
    "//       const { msa, latitude, longitude, Population, Vacant_Homes_Percent } =\n",
    "//         item;\n",
    "//       const marker = L.marker([latitude, longitude]).addTo(map);\n",
    "//       marker.bindPopup(`\n",
    "//                         <strong>${msa}</strong><br>\n",
    "//                         Population: ${Population.toLocaleString()}<br>\n",
    "//                         Vacant Homes: ${Vacant_Homes_Percent.toFixed(2)}%\n",
    "//                     `);\n",
    "//     });\n",
    "//   })\n",
    "//   .catch((error) => console.error(\"Error:\", error));\n"
   ]
  }
 ],
 "metadata": {
  "kernelspec": {
   "display_name": "base",
   "language": "python",
   "name": "python3"
  },
  "language_info": {
   "codemirror_mode": {
    "name": "ipython",
    "version": 3
   },
   "file_extension": ".py",
   "mimetype": "text/x-python",
   "name": "python",
   "nbconvert_exporter": "python",
   "pygments_lexer": "ipython3",
   "version": "3.11.5"
  }
 },
 "nbformat": 4,
 "nbformat_minor": 2
}
